{
 "cells": [
  {
   "cell_type": "code",
   "execution_count": 1,
   "metadata": {},
   "outputs": [],
   "source": [
    "import pandas as pd\n",
    "import numpy as numpy\n",
    "import matplotlib.pyplot as plt\n",
    "import seaborn as sns\n",
    "%matplotlib inline"
   ]
  },
  {
   "cell_type": "code",
   "execution_count": 2,
   "metadata": {},
   "outputs": [],
   "source": [
    "path1='F:\\move\\LEARN\\sales_2014.csv'\n",
    "path2='F:\\move\\LEARN\\sales_2015.csv'\n",
    "path3='F:\\move\\LEARN\\sales_2016.csv'\n",
    "path4='F:\\move\\LEARN\\sales_2017.csv'\n"
   ]
  },
  {
   "cell_type": "code",
   "execution_count": 3,
   "metadata": {},
   "outputs": [],
   "source": [
    "df1=pd.read_csv(path1)\n",
    "df2=pd.read_csv(path2)\n",
    "df3=pd.read_csv(path3)\n",
    "df4=pd.read_csv(path4)"
   ]
  },
  {
   "attachments": {},
   "cell_type": "markdown",
   "metadata": {},
   "source": [
    "<h2> Appending the Datasets together and resetting the index </h2>"
   ]
  },
  {
   "cell_type": "code",
   "execution_count": 4,
   "metadata": {},
   "outputs": [
    {
     "data": {
      "text/html": [
       "<div>\n",
       "<style scoped>\n",
       "    .dataframe tbody tr th:only-of-type {\n",
       "        vertical-align: middle;\n",
       "    }\n",
       "\n",
       "    .dataframe tbody tr th {\n",
       "        vertical-align: top;\n",
       "    }\n",
       "\n",
       "    .dataframe thead th {\n",
       "        text-align: right;\n",
       "    }\n",
       "</style>\n",
       "<table border=\"1\" class=\"dataframe\">\n",
       "  <thead>\n",
       "    <tr style=\"text-align: right;\">\n",
       "      <th></th>\n",
       "      <th>Order ID</th>\n",
       "      <th>Customer ID</th>\n",
       "      <th>SalesPerson</th>\n",
       "      <th>Order Date</th>\n",
       "      <th>Order Priority</th>\n",
       "      <th>SKU</th>\n",
       "      <th>Order Quantity</th>\n",
       "      <th>Unit Sell Price</th>\n",
       "      <th>Discount</th>\n",
       "      <th>Shipping Amount</th>\n",
       "      <th>Ship Mode</th>\n",
       "      <th>Product Container</th>\n",
       "      <th>Ship Date</th>\n",
       "    </tr>\n",
       "  </thead>\n",
       "  <tbody>\n",
       "    <tr>\n",
       "      <th>0</th>\n",
       "      <td>13729</td>\n",
       "      <td>C508</td>\n",
       "      <td>Bob</td>\n",
       "      <td>1/01/2014</td>\n",
       "      <td>Not Specified</td>\n",
       "      <td>SKU947</td>\n",
       "      <td>9</td>\n",
       "      <td>95.99</td>\n",
       "      <td>0.08</td>\n",
       "      <td>35.00</td>\n",
       "      <td>Express Air</td>\n",
       "      <td>Large Box</td>\n",
       "      <td>3/01/2014</td>\n",
       "    </tr>\n",
       "    <tr>\n",
       "      <th>1</th>\n",
       "      <td>28774</td>\n",
       "      <td>C372</td>\n",
       "      <td>John</td>\n",
       "      <td>1/01/2014</td>\n",
       "      <td>High</td>\n",
       "      <td>SKU937</td>\n",
       "      <td>32</td>\n",
       "      <td>5.98</td>\n",
       "      <td>0.10</td>\n",
       "      <td>4.69</td>\n",
       "      <td>Regular Air</td>\n",
       "      <td>Small Box</td>\n",
       "      <td>2/01/2014</td>\n",
       "    </tr>\n",
       "    <tr>\n",
       "      <th>2</th>\n",
       "      <td>9285</td>\n",
       "      <td>C212</td>\n",
       "      <td>Bob</td>\n",
       "      <td>2/01/2014</td>\n",
       "      <td>Critical</td>\n",
       "      <td>SKU363</td>\n",
       "      <td>3</td>\n",
       "      <td>40.98</td>\n",
       "      <td>0.06</td>\n",
       "      <td>2.99</td>\n",
       "      <td>Regular Air</td>\n",
       "      <td>Small Box</td>\n",
       "      <td>4/01/2014</td>\n",
       "    </tr>\n",
       "    <tr>\n",
       "      <th>3</th>\n",
       "      <td>37537</td>\n",
       "      <td>C015</td>\n",
       "      <td>Bob</td>\n",
       "      <td>2/01/2014</td>\n",
       "      <td>Low</td>\n",
       "      <td>SKU052</td>\n",
       "      <td>4</td>\n",
       "      <td>291.73</td>\n",
       "      <td>0.00</td>\n",
       "      <td>48.80</td>\n",
       "      <td>Delivery Truck</td>\n",
       "      <td>Jumbo Drum</td>\n",
       "      <td>2/01/2014</td>\n",
       "    </tr>\n",
       "    <tr>\n",
       "      <th>4</th>\n",
       "      <td>37537</td>\n",
       "      <td>C015</td>\n",
       "      <td>Bob</td>\n",
       "      <td>2/01/2014</td>\n",
       "      <td>Low</td>\n",
       "      <td>SKU063</td>\n",
       "      <td>43</td>\n",
       "      <td>100.98</td>\n",
       "      <td>0.07</td>\n",
       "      <td>45.00</td>\n",
       "      <td>Delivery Truck</td>\n",
       "      <td>Jumbo Drum</td>\n",
       "      <td>4/01/2014</td>\n",
       "    </tr>\n",
       "    <tr>\n",
       "      <th>...</th>\n",
       "      <td>...</td>\n",
       "      <td>...</td>\n",
       "      <td>...</td>\n",
       "      <td>...</td>\n",
       "      <td>...</td>\n",
       "      <td>...</td>\n",
       "      <td>...</td>\n",
       "      <td>...</td>\n",
       "      <td>...</td>\n",
       "      <td>...</td>\n",
       "      <td>...</td>\n",
       "      <td>...</td>\n",
       "      <td>...</td>\n",
       "    </tr>\n",
       "    <tr>\n",
       "      <th>8394</th>\n",
       "      <td>49344</td>\n",
       "      <td>C494</td>\n",
       "      <td>Bob</td>\n",
       "      <td>30/12/2017</td>\n",
       "      <td>Low</td>\n",
       "      <td>SKU979</td>\n",
       "      <td>31</td>\n",
       "      <td>19.98</td>\n",
       "      <td>0.00</td>\n",
       "      <td>4.00</td>\n",
       "      <td>Regular Air</td>\n",
       "      <td>Small Box</td>\n",
       "      <td>30/12/2017</td>\n",
       "    </tr>\n",
       "    <tr>\n",
       "      <th>8395</th>\n",
       "      <td>49344</td>\n",
       "      <td>C494</td>\n",
       "      <td>Bob</td>\n",
       "      <td>30/12/2017</td>\n",
       "      <td>Low</td>\n",
       "      <td>SKU883</td>\n",
       "      <td>1</td>\n",
       "      <td>832.81</td>\n",
       "      <td>0.09</td>\n",
       "      <td>24.49</td>\n",
       "      <td>Regular Air</td>\n",
       "      <td>Medium Box</td>\n",
       "      <td>30/12/2017</td>\n",
       "    </tr>\n",
       "    <tr>\n",
       "      <th>8396</th>\n",
       "      <td>47815</td>\n",
       "      <td>C377</td>\n",
       "      <td>Richard</td>\n",
       "      <td>30/12/2017</td>\n",
       "      <td>Not Specified</td>\n",
       "      <td>SKU114</td>\n",
       "      <td>45</td>\n",
       "      <td>13.73</td>\n",
       "      <td>0.08</td>\n",
       "      <td>6.85</td>\n",
       "      <td>Regular Air</td>\n",
       "      <td>Wrap Bag</td>\n",
       "      <td>30/12/2017</td>\n",
       "    </tr>\n",
       "    <tr>\n",
       "      <th>8397</th>\n",
       "      <td>50950</td>\n",
       "      <td>C768</td>\n",
       "      <td>Richard</td>\n",
       "      <td>30/12/2017</td>\n",
       "      <td>Not Specified</td>\n",
       "      <td>SKU066</td>\n",
       "      <td>6</td>\n",
       "      <td>60.98</td>\n",
       "      <td>0.06</td>\n",
       "      <td>30.00</td>\n",
       "      <td>Delivery Truck</td>\n",
       "      <td>Jumbo Drum</td>\n",
       "      <td>30/12/2017</td>\n",
       "    </tr>\n",
       "    <tr>\n",
       "      <th>8398</th>\n",
       "      <td>50950</td>\n",
       "      <td>C768</td>\n",
       "      <td>Richard</td>\n",
       "      <td>30/12/2017</td>\n",
       "      <td>Not Specified</td>\n",
       "      <td>SKU961</td>\n",
       "      <td>35</td>\n",
       "      <td>13.48</td>\n",
       "      <td>0.10</td>\n",
       "      <td>4.51</td>\n",
       "      <td>Express Air</td>\n",
       "      <td>Small Box</td>\n",
       "      <td>30/12/2017</td>\n",
       "    </tr>\n",
       "  </tbody>\n",
       "</table>\n",
       "<p>8399 rows × 13 columns</p>\n",
       "</div>"
      ],
      "text/plain": [
       "      Order ID Customer ID SalesPerson  Order Date Order Priority     SKU  \\\n",
       "0        13729        C508         Bob   1/01/2014  Not Specified  SKU947   \n",
       "1        28774        C372        John   1/01/2014           High  SKU937   \n",
       "2         9285        C212         Bob   2/01/2014       Critical  SKU363   \n",
       "3        37537        C015         Bob   2/01/2014            Low  SKU052   \n",
       "4        37537        C015         Bob   2/01/2014            Low  SKU063   \n",
       "...        ...         ...         ...         ...            ...     ...   \n",
       "8394     49344        C494         Bob  30/12/2017            Low  SKU979   \n",
       "8395     49344        C494         Bob  30/12/2017            Low  SKU883   \n",
       "8396     47815        C377     Richard  30/12/2017  Not Specified  SKU114   \n",
       "8397     50950        C768     Richard  30/12/2017  Not Specified  SKU066   \n",
       "8398     50950        C768     Richard  30/12/2017  Not Specified  SKU961   \n",
       "\n",
       "      Order Quantity  Unit Sell Price  Discount  Shipping Amount  \\\n",
       "0                  9            95.99      0.08            35.00   \n",
       "1                 32             5.98      0.10             4.69   \n",
       "2                  3            40.98      0.06             2.99   \n",
       "3                  4           291.73      0.00            48.80   \n",
       "4                 43           100.98      0.07            45.00   \n",
       "...              ...              ...       ...              ...   \n",
       "8394              31            19.98      0.00             4.00   \n",
       "8395               1           832.81      0.09            24.49   \n",
       "8396              45            13.73      0.08             6.85   \n",
       "8397               6            60.98      0.06            30.00   \n",
       "8398              35            13.48      0.10             4.51   \n",
       "\n",
       "           Ship Mode Product Container   Ship Date  \n",
       "0        Express Air         Large Box   3/01/2014  \n",
       "1        Regular Air         Small Box   2/01/2014  \n",
       "2        Regular Air         Small Box   4/01/2014  \n",
       "3     Delivery Truck        Jumbo Drum   2/01/2014  \n",
       "4     Delivery Truck        Jumbo Drum   4/01/2014  \n",
       "...              ...               ...         ...  \n",
       "8394     Regular Air         Small Box  30/12/2017  \n",
       "8395     Regular Air        Medium Box  30/12/2017  \n",
       "8396     Regular Air          Wrap Bag  30/12/2017  \n",
       "8397  Delivery Truck        Jumbo Drum  30/12/2017  \n",
       "8398     Express Air         Small Box  30/12/2017  \n",
       "\n",
       "[8399 rows x 13 columns]"
      ]
     },
     "execution_count": 4,
     "metadata": {},
     "output_type": "execute_result"
    }
   ],
   "source": [
    "sales_data=pd.concat([df1,df2,df3,df4], ignore_index=True)\n",
    "sales_data"
   ]
  },
  {
   "cell_type": "code",
   "execution_count": 5,
   "metadata": {},
   "outputs": [
    {
     "name": "stdout",
     "output_type": "stream",
     "text": [
      "<class 'pandas.core.frame.DataFrame'>\n",
      "RangeIndex: 8399 entries, 0 to 8398\n",
      "Data columns (total 13 columns):\n",
      " #   Column             Non-Null Count  Dtype  \n",
      "---  ------             --------------  -----  \n",
      " 0   Order ID           8399 non-null   int64  \n",
      " 1   Customer ID        8399 non-null   object \n",
      " 2   SalesPerson        8399 non-null   object \n",
      " 3   Order Date         8399 non-null   object \n",
      " 4   Order Priority     8399 non-null   object \n",
      " 5   SKU                8399 non-null   object \n",
      " 6   Order Quantity     8399 non-null   int64  \n",
      " 7   Unit Sell Price    8399 non-null   float64\n",
      " 8   Discount           8399 non-null   float64\n",
      " 9   Shipping Amount    8399 non-null   float64\n",
      " 10  Ship Mode          8399 non-null   object \n",
      " 11  Product Container  8399 non-null   object \n",
      " 12  Ship Date          8399 non-null   object \n",
      "dtypes: float64(3), int64(2), object(8)\n",
      "memory usage: 853.1+ KB\n"
     ]
    }
   ],
   "source": [
    "sales_data.info()"
   ]
  },
  {
   "attachments": {},
   "cell_type": "markdown",
   "metadata": {},
   "source": [
    "Checking for missing values\n"
   ]
  },
  {
   "cell_type": "code",
   "execution_count": 6,
   "metadata": {},
   "outputs": [
    {
     "data": {
      "text/plain": [
       "Order ID             0\n",
       "Customer ID          0\n",
       "SalesPerson          0\n",
       "Order Date           0\n",
       "Order Priority       0\n",
       "SKU                  0\n",
       "Order Quantity       0\n",
       "Unit Sell Price      0\n",
       "Discount             0\n",
       "Shipping Amount      0\n",
       "Ship Mode            0\n",
       "Product Container    0\n",
       "Ship Date            0\n",
       "dtype: int64"
      ]
     },
     "execution_count": 6,
     "metadata": {},
     "output_type": "execute_result"
    }
   ],
   "source": [
    "sales_data.isnull().sum()"
   ]
  },
  {
   "cell_type": "code",
   "execution_count": 7,
   "metadata": {},
   "outputs": [],
   "source": [
    "missing_values=sales_data.notnull()"
   ]
  },
  {
   "cell_type": "code",
   "execution_count": 8,
   "metadata": {},
   "outputs": [
    {
     "name": "stdout",
     "output_type": "stream",
     "text": [
      "Order ID\n",
      "True    8399\n",
      "Name: Order ID, dtype: int64\n",
      "\n",
      "Customer ID\n",
      "True    8399\n",
      "Name: Customer ID, dtype: int64\n",
      "\n",
      "SalesPerson\n",
      "True    8399\n",
      "Name: SalesPerson, dtype: int64\n",
      "\n",
      "Order Date\n",
      "True    8399\n",
      "Name: Order Date, dtype: int64\n",
      "\n",
      "Order Priority\n",
      "True    8399\n",
      "Name: Order Priority, dtype: int64\n",
      "\n",
      "SKU\n",
      "True    8399\n",
      "Name: SKU, dtype: int64\n",
      "\n",
      "Order Quantity\n",
      "True    8399\n",
      "Name: Order Quantity, dtype: int64\n",
      "\n",
      "Unit Sell Price\n",
      "True    8399\n",
      "Name: Unit Sell Price, dtype: int64\n",
      "\n",
      "Discount\n",
      "True    8399\n",
      "Name: Discount, dtype: int64\n",
      "\n",
      "Shipping Amount\n",
      "True    8399\n",
      "Name: Shipping Amount, dtype: int64\n",
      "\n",
      "Ship Mode\n",
      "True    8399\n",
      "Name: Ship Mode, dtype: int64\n",
      "\n",
      "Product Container\n",
      "True    8399\n",
      "Name: Product Container, dtype: int64\n",
      "\n",
      "Ship Date\n",
      "True    8399\n",
      "Name: Ship Date, dtype: int64\n",
      "\n"
     ]
    }
   ],
   "source": [
    "for column in missing_values.columns.values.tolist():\n",
    "    print(column)\n",
    "    print(missing_values[column].value_counts())\n",
    "    print(\"\")"
   ]
  },
  {
   "cell_type": "code",
   "execution_count": 9,
   "metadata": {},
   "outputs": [
    {
     "name": "stderr",
     "output_type": "stream",
     "text": [
      "C:\\Users\\Dada\\AppData\\Local\\Temp\\ipykernel_15284\\760549283.py:1: UserWarning: Parsing dates in DD/MM/YYYY format when dayfirst=False (the default) was specified. This may lead to inconsistently parsed dates! Specify a format to ensure consistent parsing.\n",
      "  sales_data['Order Date']=pd.to_datetime(sales_data['Order Date'])\n"
     ]
    }
   ],
   "source": [
    "sales_data['Order Date']=pd.to_datetime(sales_data['Order Date'])"
   ]
  },
  {
   "cell_type": "code",
   "execution_count": 10,
   "metadata": {},
   "outputs": [
    {
     "name": "stderr",
     "output_type": "stream",
     "text": [
      "C:\\Users\\Dada\\AppData\\Local\\Temp\\ipykernel_15284\\3469192475.py:1: UserWarning: Parsing dates in DD/MM/YYYY format when dayfirst=False (the default) was specified. This may lead to inconsistently parsed dates! Specify a format to ensure consistent parsing.\n",
      "  sales_data['Ship Date'] = pd.to_datetime(sales_data['Ship Date'])\n"
     ]
    }
   ],
   "source": [
    "sales_data['Ship Date'] = pd.to_datetime(sales_data['Ship Date'])\n"
   ]
  },
  {
   "cell_type": "code",
   "execution_count": 57,
   "metadata": {},
   "outputs": [
    {
     "data": {
      "text/plain": [
       "Order ID                      int64\n",
       "Customer ID                  object\n",
       "SalesPerson                  object\n",
       "Order Date           datetime64[ns]\n",
       "Order Priority               object\n",
       "SKU                          object\n",
       "Order Quantity                int64\n",
       "Unit Sell Price             float64\n",
       "Discount                    float64\n",
       "Shipping Amount             float64\n",
       "Ship Mode                    object\n",
       "Product Container            object\n",
       "Ship Date            datetime64[ns]\n",
       "Sales amount                float64\n",
       "dtype: object"
      ]
     },
     "execution_count": 57,
     "metadata": {},
     "output_type": "execute_result"
    }
   ],
   "source": [
    "sales_data.dtypes"
   ]
  },
  {
   "cell_type": "code",
   "execution_count": 58,
   "metadata": {},
   "outputs": [
    {
     "data": {
      "text/plain": [
       "0        794.80\n",
       "1        172.22\n",
       "2        115.56\n",
       "3       1166.92\n",
       "4       4038.19\n",
       "         ...   \n",
       "8394     619.38\n",
       "8395     757.86\n",
       "8396     568.42\n",
       "8397     343.93\n",
       "8398     424.62\n",
       "Name: Sales amount, Length: 8399, dtype: float64"
      ]
     },
     "execution_count": 58,
     "metadata": {},
     "output_type": "execute_result"
    }
   ],
   "source": [
    "sales_data['Sales amount']=round(sales_data['Unit Sell Price']*sales_data['Order Quantity']*(1-sales_data['Discount']),2)\n",
    "\n",
    "sales_data['Sales amount']"
   ]
  },
  {
   "cell_type": "code",
   "execution_count": 13,
   "metadata": {},
   "outputs": [
    {
     "data": {
      "text/html": [
       "<div>\n",
       "<style scoped>\n",
       "    .dataframe tbody tr th:only-of-type {\n",
       "        vertical-align: middle;\n",
       "    }\n",
       "\n",
       "    .dataframe tbody tr th {\n",
       "        vertical-align: top;\n",
       "    }\n",
       "\n",
       "    .dataframe thead th {\n",
       "        text-align: right;\n",
       "    }\n",
       "</style>\n",
       "<table border=\"1\" class=\"dataframe\">\n",
       "  <thead>\n",
       "    <tr style=\"text-align: right;\">\n",
       "      <th></th>\n",
       "      <th>Order ID</th>\n",
       "      <th>Customer ID</th>\n",
       "      <th>SalesPerson</th>\n",
       "      <th>Order Date</th>\n",
       "      <th>Order Priority</th>\n",
       "      <th>SKU</th>\n",
       "      <th>Order Quantity</th>\n",
       "      <th>Unit Sell Price</th>\n",
       "      <th>Discount</th>\n",
       "      <th>Shipping Amount</th>\n",
       "      <th>Ship Mode</th>\n",
       "      <th>Product Container</th>\n",
       "      <th>Ship Date</th>\n",
       "      <th>Sales amount</th>\n",
       "    </tr>\n",
       "  </thead>\n",
       "  <tbody>\n",
       "    <tr>\n",
       "      <th>0</th>\n",
       "      <td>13729</td>\n",
       "      <td>C508</td>\n",
       "      <td>Bob</td>\n",
       "      <td>2014-01-01</td>\n",
       "      <td>Not Specified</td>\n",
       "      <td>SKU947</td>\n",
       "      <td>9</td>\n",
       "      <td>95.99</td>\n",
       "      <td>0.08</td>\n",
       "      <td>35.00</td>\n",
       "      <td>Express Air</td>\n",
       "      <td>Large Box</td>\n",
       "      <td>2014-03-01</td>\n",
       "      <td>794.80</td>\n",
       "    </tr>\n",
       "    <tr>\n",
       "      <th>1</th>\n",
       "      <td>28774</td>\n",
       "      <td>C372</td>\n",
       "      <td>John</td>\n",
       "      <td>2014-01-01</td>\n",
       "      <td>High</td>\n",
       "      <td>SKU937</td>\n",
       "      <td>32</td>\n",
       "      <td>5.98</td>\n",
       "      <td>0.10</td>\n",
       "      <td>4.69</td>\n",
       "      <td>Regular Air</td>\n",
       "      <td>Small Box</td>\n",
       "      <td>2014-02-01</td>\n",
       "      <td>172.22</td>\n",
       "    </tr>\n",
       "    <tr>\n",
       "      <th>2</th>\n",
       "      <td>9285</td>\n",
       "      <td>C212</td>\n",
       "      <td>Bob</td>\n",
       "      <td>2014-02-01</td>\n",
       "      <td>Critical</td>\n",
       "      <td>SKU363</td>\n",
       "      <td>3</td>\n",
       "      <td>40.98</td>\n",
       "      <td>0.06</td>\n",
       "      <td>2.99</td>\n",
       "      <td>Regular Air</td>\n",
       "      <td>Small Box</td>\n",
       "      <td>2014-04-01</td>\n",
       "      <td>115.56</td>\n",
       "    </tr>\n",
       "    <tr>\n",
       "      <th>3</th>\n",
       "      <td>37537</td>\n",
       "      <td>C015</td>\n",
       "      <td>Bob</td>\n",
       "      <td>2014-02-01</td>\n",
       "      <td>Low</td>\n",
       "      <td>SKU052</td>\n",
       "      <td>4</td>\n",
       "      <td>291.73</td>\n",
       "      <td>0.00</td>\n",
       "      <td>48.80</td>\n",
       "      <td>Delivery Truck</td>\n",
       "      <td>Jumbo Drum</td>\n",
       "      <td>2014-02-01</td>\n",
       "      <td>1166.92</td>\n",
       "    </tr>\n",
       "    <tr>\n",
       "      <th>4</th>\n",
       "      <td>37537</td>\n",
       "      <td>C015</td>\n",
       "      <td>Bob</td>\n",
       "      <td>2014-02-01</td>\n",
       "      <td>Low</td>\n",
       "      <td>SKU063</td>\n",
       "      <td>43</td>\n",
       "      <td>100.98</td>\n",
       "      <td>0.07</td>\n",
       "      <td>45.00</td>\n",
       "      <td>Delivery Truck</td>\n",
       "      <td>Jumbo Drum</td>\n",
       "      <td>2014-04-01</td>\n",
       "      <td>4038.19</td>\n",
       "    </tr>\n",
       "    <tr>\n",
       "      <th>...</th>\n",
       "      <td>...</td>\n",
       "      <td>...</td>\n",
       "      <td>...</td>\n",
       "      <td>...</td>\n",
       "      <td>...</td>\n",
       "      <td>...</td>\n",
       "      <td>...</td>\n",
       "      <td>...</td>\n",
       "      <td>...</td>\n",
       "      <td>...</td>\n",
       "      <td>...</td>\n",
       "      <td>...</td>\n",
       "      <td>...</td>\n",
       "      <td>...</td>\n",
       "    </tr>\n",
       "    <tr>\n",
       "      <th>8394</th>\n",
       "      <td>49344</td>\n",
       "      <td>C494</td>\n",
       "      <td>Bob</td>\n",
       "      <td>2017-12-30</td>\n",
       "      <td>Low</td>\n",
       "      <td>SKU979</td>\n",
       "      <td>31</td>\n",
       "      <td>19.98</td>\n",
       "      <td>0.00</td>\n",
       "      <td>4.00</td>\n",
       "      <td>Regular Air</td>\n",
       "      <td>Small Box</td>\n",
       "      <td>2017-12-30</td>\n",
       "      <td>619.38</td>\n",
       "    </tr>\n",
       "    <tr>\n",
       "      <th>8395</th>\n",
       "      <td>49344</td>\n",
       "      <td>C494</td>\n",
       "      <td>Bob</td>\n",
       "      <td>2017-12-30</td>\n",
       "      <td>Low</td>\n",
       "      <td>SKU883</td>\n",
       "      <td>1</td>\n",
       "      <td>832.81</td>\n",
       "      <td>0.09</td>\n",
       "      <td>24.49</td>\n",
       "      <td>Regular Air</td>\n",
       "      <td>Medium Box</td>\n",
       "      <td>2017-12-30</td>\n",
       "      <td>757.86</td>\n",
       "    </tr>\n",
       "    <tr>\n",
       "      <th>8396</th>\n",
       "      <td>47815</td>\n",
       "      <td>C377</td>\n",
       "      <td>Richard</td>\n",
       "      <td>2017-12-30</td>\n",
       "      <td>Not Specified</td>\n",
       "      <td>SKU114</td>\n",
       "      <td>45</td>\n",
       "      <td>13.73</td>\n",
       "      <td>0.08</td>\n",
       "      <td>6.85</td>\n",
       "      <td>Regular Air</td>\n",
       "      <td>Wrap Bag</td>\n",
       "      <td>2017-12-30</td>\n",
       "      <td>568.42</td>\n",
       "    </tr>\n",
       "    <tr>\n",
       "      <th>8397</th>\n",
       "      <td>50950</td>\n",
       "      <td>C768</td>\n",
       "      <td>Richard</td>\n",
       "      <td>2017-12-30</td>\n",
       "      <td>Not Specified</td>\n",
       "      <td>SKU066</td>\n",
       "      <td>6</td>\n",
       "      <td>60.98</td>\n",
       "      <td>0.06</td>\n",
       "      <td>30.00</td>\n",
       "      <td>Delivery Truck</td>\n",
       "      <td>Jumbo Drum</td>\n",
       "      <td>2017-12-30</td>\n",
       "      <td>343.93</td>\n",
       "    </tr>\n",
       "    <tr>\n",
       "      <th>8398</th>\n",
       "      <td>50950</td>\n",
       "      <td>C768</td>\n",
       "      <td>Richard</td>\n",
       "      <td>2017-12-30</td>\n",
       "      <td>Not Specified</td>\n",
       "      <td>SKU961</td>\n",
       "      <td>35</td>\n",
       "      <td>13.48</td>\n",
       "      <td>0.10</td>\n",
       "      <td>4.51</td>\n",
       "      <td>Express Air</td>\n",
       "      <td>Small Box</td>\n",
       "      <td>2017-12-30</td>\n",
       "      <td>424.62</td>\n",
       "    </tr>\n",
       "  </tbody>\n",
       "</table>\n",
       "<p>8399 rows × 14 columns</p>\n",
       "</div>"
      ],
      "text/plain": [
       "      Order ID Customer ID SalesPerson Order Date Order Priority     SKU  \\\n",
       "0        13729        C508         Bob 2014-01-01  Not Specified  SKU947   \n",
       "1        28774        C372        John 2014-01-01           High  SKU937   \n",
       "2         9285        C212         Bob 2014-02-01       Critical  SKU363   \n",
       "3        37537        C015         Bob 2014-02-01            Low  SKU052   \n",
       "4        37537        C015         Bob 2014-02-01            Low  SKU063   \n",
       "...        ...         ...         ...        ...            ...     ...   \n",
       "8394     49344        C494         Bob 2017-12-30            Low  SKU979   \n",
       "8395     49344        C494         Bob 2017-12-30            Low  SKU883   \n",
       "8396     47815        C377     Richard 2017-12-30  Not Specified  SKU114   \n",
       "8397     50950        C768     Richard 2017-12-30  Not Specified  SKU066   \n",
       "8398     50950        C768     Richard 2017-12-30  Not Specified  SKU961   \n",
       "\n",
       "      Order Quantity  Unit Sell Price  Discount  Shipping Amount  \\\n",
       "0                  9            95.99      0.08            35.00   \n",
       "1                 32             5.98      0.10             4.69   \n",
       "2                  3            40.98      0.06             2.99   \n",
       "3                  4           291.73      0.00            48.80   \n",
       "4                 43           100.98      0.07            45.00   \n",
       "...              ...              ...       ...              ...   \n",
       "8394              31            19.98      0.00             4.00   \n",
       "8395               1           832.81      0.09            24.49   \n",
       "8396              45            13.73      0.08             6.85   \n",
       "8397               6            60.98      0.06            30.00   \n",
       "8398              35            13.48      0.10             4.51   \n",
       "\n",
       "           Ship Mode Product Container  Ship Date  Sales amount  \n",
       "0        Express Air         Large Box 2014-03-01        794.80  \n",
       "1        Regular Air         Small Box 2014-02-01        172.22  \n",
       "2        Regular Air         Small Box 2014-04-01        115.56  \n",
       "3     Delivery Truck        Jumbo Drum 2014-02-01       1166.92  \n",
       "4     Delivery Truck        Jumbo Drum 2014-04-01       4038.19  \n",
       "...              ...               ...        ...           ...  \n",
       "8394     Regular Air         Small Box 2017-12-30        619.38  \n",
       "8395     Regular Air        Medium Box 2017-12-30        757.86  \n",
       "8396     Regular Air          Wrap Bag 2017-12-30        568.42  \n",
       "8397  Delivery Truck        Jumbo Drum 2017-12-30        343.93  \n",
       "8398     Express Air         Small Box 2017-12-30        424.62  \n",
       "\n",
       "[8399 rows x 14 columns]"
      ]
     },
     "execution_count": 13,
     "metadata": {},
     "output_type": "execute_result"
    }
   ],
   "source": [
    "sales_data"
   ]
  },
  {
   "attachments": {},
   "cell_type": "markdown",
   "metadata": {},
   "source": [
    "Calculating Total Sales"
   ]
  },
  {
   "cell_type": "code",
   "execution_count": 14,
   "metadata": {},
   "outputs": [
    {
     "data": {
      "text/plain": [
       "8399"
      ]
     },
     "execution_count": 14,
     "metadata": {},
     "output_type": "execute_result"
    }
   ],
   "source": [
    "Total_Sales=sales_data.shape[0]\n",
    "Total_Sales"
   ]
  },
  {
   "attachments": {},
   "cell_type": "markdown",
   "metadata": {},
   "source": [
    "Calculating Total sales amount"
   ]
  },
  {
   "cell_type": "code",
   "execution_count": 15,
   "metadata": {},
   "outputs": [
    {
     "data": {
      "text/plain": [
       "14740545.42"
      ]
     },
     "execution_count": 15,
     "metadata": {},
     "output_type": "execute_result"
    }
   ],
   "source": [
    "Total_Sales_Amount=sales_data['Sales amount'].sum()\n",
    "Total_Sales_Amount=round(sum(sales_data['Sales amount']),2)\n",
    "Total_Sales_Amount"
   ]
  },
  {
   "attachments": {},
   "cell_type": "markdown",
   "metadata": {},
   "source": [
    "Calculating Avg order quantity"
   ]
  },
  {
   "cell_type": "code",
   "execution_count": 16,
   "metadata": {},
   "outputs": [
    {
     "data": {
      "text/plain": [
       "25.57"
      ]
     },
     "execution_count": 16,
     "metadata": {},
     "output_type": "execute_result"
    }
   ],
   "source": [
    "Avg_order_quantity=round(sales_data['Order Quantity'].mean(),2)\n",
    "Avg_order_quantity"
   ]
  },
  {
   "attachments": {},
   "cell_type": "markdown",
   "metadata": {},
   "source": [
    "Calculating Avg unit sell price"
   ]
  },
  {
   "cell_type": "code",
   "execution_count": 17,
   "metadata": {},
   "outputs": [],
   "source": [
    "\n",
    "Avg_unit_sell_price=round(sales_data['Unit Sell Price'].mean(),2)"
   ]
  },
  {
   "attachments": {},
   "cell_type": "markdown",
   "metadata": {},
   "source": [
    "Calcuting avg Discount Percentage"
   ]
  },
  {
   "cell_type": "code",
   "execution_count": 18,
   "metadata": {},
   "outputs": [],
   "source": [
    "avg_discount_percentage=round(sales_data['Discount'].mean(),2)"
   ]
  },
  {
   "attachments": {},
   "cell_type": "markdown",
   "metadata": {},
   "source": [
    "Let's Generate the insights"
   ]
  },
  {
   "attachments": {},
   "cell_type": "markdown",
   "metadata": {},
   "source": [
    "1. Find the average discount percentage for each salesperson"
   ]
  },
  {
   "cell_type": "code",
   "execution_count": 19,
   "metadata": {},
   "outputs": [
    {
     "data": {
      "text/plain": [
       "SalesPerson\n",
       "Bob        0.050\n",
       "John       0.050\n",
       "Richard    0.049\n",
       "Name: Discount, dtype: float64"
      ]
     },
     "execution_count": 19,
     "metadata": {},
     "output_type": "execute_result"
    }
   ],
   "source": [
    "avg_discount_by_salesperson=sales_data.groupby('SalesPerson')['Discount'].mean().round(3)\n",
    "\n",
    "avg_discount_by_salesperson"
   ]
  },
  {
   "attachments": {},
   "cell_type": "markdown",
   "metadata": {},
   "source": [
    "ploting the insight"
   ]
  },
  {
   "cell_type": "code",
   "execution_count": 20,
   "metadata": {},
   "outputs": [
    {
     "data": {
      "image/png": "[encoded data removed]",
      "text/plain": [
       "<Figure size 800x600 with 1 Axes>"
      ]
     },
     "metadata": {},
     "output_type": "display_data"
    }
   ],
   "source": [
    "sns.set_style(\"darkgrid\")\n",
    "plt.figure(figsize=(8, 6))\n",
    "sns.barplot(x=avg_discount_by_salesperson.index, y=avg_discount_by_salesperson.values)\n",
    "plt.xlabel('Salesperson')\n",
    "plt.ylabel('Average Discount')\n",
    "plt.title('Average Discount by Salesperson')\n",
    "plt.show()\n"
   ]
  },
  {
   "attachments": {},
   "cell_type": "markdown",
   "metadata": {},
   "source": [
    "2. Calculate the total sales for each customer"
   ]
  },
  {
   "cell_type": "code",
   "execution_count": 21,
   "metadata": {},
   "outputs": [
    {
     "data": {
      "text/plain": [
       "Customer ID\n",
       "C001     7\n",
       "C002    12\n",
       "C003    14\n",
       "C004    12\n",
       "C005    27\n",
       "C006    12\n",
       "C007     5\n",
       "C008     4\n",
       "C009     6\n",
       "C010     4\n",
       "C011    14\n",
       "C012     6\n",
       "C013    13\n",
       "C014    27\n",
       "C015    10\n",
       "C016     7\n",
       "C017     9\n",
       "C018    14\n",
       "C019     5\n",
       "C020    18\n",
       "Name: Order ID, dtype: int64"
      ]
     },
     "execution_count": 21,
     "metadata": {},
     "output_type": "execute_result"
    }
   ],
   "source": [
    "Total_Sales_by_customer=sales_data.groupby('Customer ID')['Order ID'].count()\n",
    "Total_Sales_by_customer=Total_Sales_by_customer[:20]\n",
    "Total_Sales_by_customer"
   ]
  },
  {
   "cell_type": "code",
   "execution_count": 22,
   "metadata": {},
   "outputs": [
    {
     "data": {
      "image/png": "[encoded data removed]",
      "text/plain": [
       "<Figure size 800x600 with 1 Axes>"
      ]
     },
     "metadata": {},
     "output_type": "display_data"
    }
   ],
   "source": [
    "\n",
    "plt.figure(figsize=(8, 6))\n",
    "plt.plot(Total_Sales_by_customer.index,Total_Sales_by_customer.values)\n",
    "\n",
    "plt.xlabel('Customer ID')\n",
    "plt.ylabel('Total Sales')\n",
    "plt.title('Top 20 Customers by Total Sales')\n",
    "plt.show()\n"
   ]
  },
  {
   "attachments": {},
   "cell_type": "markdown",
   "metadata": {},
   "source": [
    "3. Determine the sales distribution across different order priorities"
   ]
  },
  {
   "cell_type": "code",
   "execution_count": 60,
   "metadata": {},
   "outputs": [
    {
     "data": {
      "text/plain": [
       "Order ID                      int64\n",
       "Customer ID                  object\n",
       "SalesPerson                  object\n",
       "Order Date           datetime64[ns]\n",
       "Order Priority               object\n",
       "SKU                          object\n",
       "Order Quantity                int64\n",
       "Unit Sell Price             float64\n",
       "Discount                    float64\n",
       "Shipping Amount             float64\n",
       "Ship Mode                    object\n",
       "Product Container            object\n",
       "Ship Date            datetime64[ns]\n",
       "Sales amount                float64\n",
       "dtype: object"
      ]
     },
     "execution_count": 60,
     "metadata": {},
     "output_type": "execute_result"
    }
   ],
   "source": [
    "sales_data.dtypes"
   ]
  },
  {
   "cell_type": "code",
   "execution_count": 61,
   "metadata": {},
   "outputs": [
    {
     "data": {
      "text/plain": [
       "Order Priority\n",
       "Critical         1608\n",
       "High             1768\n",
       "Low              1720\n",
       "Medium           1631\n",
       "Not Specified    1672\n",
       "Name: Order ID, dtype: int64"
      ]
     },
     "execution_count": 61,
     "metadata": {},
     "output_type": "execute_result"
    }
   ],
   "source": [
    "sales_distri_by_priorities=sales_data.groupby('Order Priority')['Order ID'].count()\n",
    "sales_distri_by_priorities"
   ]
  },
  {
   "cell_type": "code",
   "execution_count": 38,
   "metadata": {},
   "outputs": [
    {
     "data": {
      "image/png": "[encoded data removed]",
      "text/plain": [
       "<Figure size 640x480 with 1 Axes>"
      ]
     },
     "metadata": {},
     "output_type": "display_data"
    }
   ],
   "source": [
    "sns.barplot(x=sales_distri_by_priorities.index,y=sales_distri_by_priorities.values)\n",
    "plt.xlabel('order priorities')\n",
    "plt.ylabel('Total Sales')\n",
    "plt.title('Total Sales by order priorities')\n",
    "plt.show()\n"
   ]
  },
  {
   "attachments": {},
   "cell_type": "markdown",
   "metadata": {},
   "source": [
    "4. Calculate the total shipping amount for each product container"
   ]
  },
  {
   "cell_type": "code",
   "execution_count": 62,
   "metadata": {},
   "outputs": [
    {
     "data": {
      "text/plain": [
       "Product Container\n",
       "Jumbo Box     2801683.11\n",
       "Jumbo Drum    3284843.08\n",
       "Large Box     2006178.19\n",
       "Medium Box     674590.39\n",
       "Small Box     5149408.05\n",
       "Small Pack     541229.35\n",
       "Wrap Bag       282613.25\n",
       "Name: Sales amount, dtype: float64"
      ]
     },
     "execution_count": 62,
     "metadata": {},
     "output_type": "execute_result"
    }
   ],
   "source": [
    "total_ship_amount_by_container = sales_data.groupby('Product Container')['Sales amount'].sum()\n",
    "total_ship_amount_by_container"
   ]
  },
  {
   "cell_type": "code",
   "execution_count": 39,
   "metadata": {},
   "outputs": [
    {
     "data": {
      "image/png": "[encoded data removed]",
      "text/plain": [
       "<Figure size 800x600 with 1 Axes>"
      ]
     },
     "metadata": {},
     "output_type": "display_data"
    }
   ],
   "source": [
    "plt.figure(figsize=(8, 6))\n",
    "sns.barplot(x=total_ship_amount_by_container.index,y=total_ship_amount_by_container.values)\n",
    "plt.xlabel('Product Container')\n",
    "plt.ylabel('Total Sales Amount')\n",
    "plt.title('Sales Amount by product container')\n",
    "plt.show()\n"
   ]
  },
  {
   "attachments": {},
   "cell_type": "markdown",
   "metadata": {},
   "source": [
    "Determine the average order quantity and unit sell price for each Salesperson"
   ]
  },
  {
   "cell_type": "code",
   "execution_count": 63,
   "metadata": {},
   "outputs": [
    {
     "data": {
      "text/html": [
       "<div>\n",
       "<style scoped>\n",
       "    .dataframe tbody tr th:only-of-type {\n",
       "        vertical-align: middle;\n",
       "    }\n",
       "\n",
       "    .dataframe tbody tr th {\n",
       "        vertical-align: top;\n",
       "    }\n",
       "\n",
       "    .dataframe thead th {\n",
       "        text-align: right;\n",
       "    }\n",
       "</style>\n",
       "<table border=\"1\" class=\"dataframe\">\n",
       "  <thead>\n",
       "    <tr style=\"text-align: right;\">\n",
       "      <th></th>\n",
       "      <th>Avg Order Quantity</th>\n",
       "      <th>Avg Unit Sell Price</th>\n",
       "    </tr>\n",
       "    <tr>\n",
       "      <th>SalesPerson</th>\n",
       "      <th></th>\n",
       "      <th></th>\n",
       "    </tr>\n",
       "  </thead>\n",
       "  <tbody>\n",
       "    <tr>\n",
       "      <th>Bob</th>\n",
       "      <td>25.59</td>\n",
       "      <td>95.05</td>\n",
       "    </tr>\n",
       "    <tr>\n",
       "      <th>John</th>\n",
       "      <td>25.73</td>\n",
       "      <td>86.13</td>\n",
       "    </tr>\n",
       "    <tr>\n",
       "      <th>Richard</th>\n",
       "      <td>25.39</td>\n",
       "      <td>86.55</td>\n",
       "    </tr>\n",
       "  </tbody>\n",
       "</table>\n",
       "</div>"
      ],
      "text/plain": [
       "             Avg Order Quantity  Avg Unit Sell Price\n",
       "SalesPerson                                         \n",
       "Bob                       25.59                95.05\n",
       "John                      25.73                86.13\n",
       "Richard                   25.39                86.55"
      ]
     },
     "execution_count": 63,
     "metadata": {},
     "output_type": "execute_result"
    }
   ],
   "source": [
    "# Group by 'SalesPerson' and calculate average order quantity and unit sell price\n",
    "average_metrics_by_salesperson= sales_data.groupby('SalesPerson').agg({'Order Quantity':'mean','Unit Sell Price':'mean'}).round(2).rename(columns={'Order Quantity':'Avg Order Quantity','Unit Sell Price':'Avg Unit Sell Price'})\n",
    "average_metrics_by_salesperson"
   ]
  },
  {
   "cell_type": "code",
   "execution_count": 54,
   "metadata": {},
   "outputs": [
    {
     "data": {
      "image/png": "[encoded data removed]",
      "text/plain": [
       "<Figure size 640x480 with 1 Axes>"
      ]
     },
     "metadata": {},
     "output_type": "display_data"
    }
   ],
   "source": [
    "plt.Figure(figsize=(8,6))\n",
    "sns.scatterplot(data=average_metrics_by_salesperson,x='Avg Order Quantity',y='Avg Unit Sell Price',hue='SalesPerson',s=100);\n",
    "plt.xlabel('Average Order Quantity')\n",
    "plt.ylabel('Average Unit Sell Price')\n",
    "plt.title('Scatter Plot: Average Order Quantity vs. Average Unit Sell Price by SKU')\n",
    "plt.legend(title='salesPerson')\n",
    "plt.show()"
   ]
  },
  {
   "cell_type": "markdown",
   "metadata": {},
   "source": [
    "Extracting Year and Month from a date column"
   ]
  },
  {
   "cell_type": "code",
   "execution_count": 72,
   "metadata": {},
   "outputs": [],
   "source": [
    "#extracting year from a date column\n",
    "sales_data['Order Year']=sales_data['Order Date'].dt.year\n",
    "sales_data['Shipping Year']=sales_data['Ship Date'].dt.year\n"
   ]
  },
  {
   "attachments": {},
   "cell_type": "markdown",
   "metadata": {},
   "source": [
    "#extracting month from a date column"
   ]
  },
  {
   "cell_type": "code",
   "execution_count": 74,
   "metadata": {},
   "outputs": [],
   "source": [
    "sales_data['Order Month']=sales_data['Order Date'].dt.strftime('%B')\n",
    "sales_data['Shipping Month']=sales_data['Ship Date'].dt.strftime('%B')"
   ]
  },
  {
   "cell_type": "code",
   "execution_count": 75,
   "metadata": {},
   "outputs": [
    {
     "data": {
      "text/html": [
       "<div>\n",
       "<style scoped>\n",
       "    .dataframe tbody tr th:only-of-type {\n",
       "        vertical-align: middle;\n",
       "    }\n",
       "\n",
       "    .dataframe tbody tr th {\n",
       "        vertical-align: top;\n",
       "    }\n",
       "\n",
       "    .dataframe thead th {\n",
       "        text-align: right;\n",
       "    }\n",
       "</style>\n",
       "<table border=\"1\" class=\"dataframe\">\n",
       "  <thead>\n",
       "    <tr style=\"text-align: right;\">\n",
       "      <th></th>\n",
       "      <th>Order ID</th>\n",
       "      <th>Customer ID</th>\n",
       "      <th>SalesPerson</th>\n",
       "      <th>Order Date</th>\n",
       "      <th>Order Priority</th>\n",
       "      <th>SKU</th>\n",
       "      <th>Order Quantity</th>\n",
       "      <th>Unit Sell Price</th>\n",
       "      <th>Discount</th>\n",
       "      <th>Shipping Amount</th>\n",
       "      <th>Ship Mode</th>\n",
       "      <th>Product Container</th>\n",
       "      <th>Ship Date</th>\n",
       "      <th>Sales amount</th>\n",
       "      <th>Order Year</th>\n",
       "      <th>Order Month</th>\n",
       "      <th>Shipping Year</th>\n",
       "      <th>Shipping Month</th>\n",
       "    </tr>\n",
       "  </thead>\n",
       "  <tbody>\n",
       "    <tr>\n",
       "      <th>0</th>\n",
       "      <td>13729</td>\n",
       "      <td>C508</td>\n",
       "      <td>Bob</td>\n",
       "      <td>2014-01-01</td>\n",
       "      <td>Not Specified</td>\n",
       "      <td>SKU947</td>\n",
       "      <td>9</td>\n",
       "      <td>95.99</td>\n",
       "      <td>0.08</td>\n",
       "      <td>35.00</td>\n",
       "      <td>Express Air</td>\n",
       "      <td>Large Box</td>\n",
       "      <td>2014-03-01</td>\n",
       "      <td>794.80</td>\n",
       "      <td>2014</td>\n",
       "      <td>January</td>\n",
       "      <td>2014</td>\n",
       "      <td>March</td>\n",
       "    </tr>\n",
       "    <tr>\n",
       "      <th>1</th>\n",
       "      <td>28774</td>\n",
       "      <td>C372</td>\n",
       "      <td>John</td>\n",
       "      <td>2014-01-01</td>\n",
       "      <td>High</td>\n",
       "      <td>SKU937</td>\n",
       "      <td>32</td>\n",
       "      <td>5.98</td>\n",
       "      <td>0.10</td>\n",
       "      <td>4.69</td>\n",
       "      <td>Regular Air</td>\n",
       "      <td>Small Box</td>\n",
       "      <td>2014-02-01</td>\n",
       "      <td>172.22</td>\n",
       "      <td>2014</td>\n",
       "      <td>January</td>\n",
       "      <td>2014</td>\n",
       "      <td>February</td>\n",
       "    </tr>\n",
       "    <tr>\n",
       "      <th>2</th>\n",
       "      <td>9285</td>\n",
       "      <td>C212</td>\n",
       "      <td>Bob</td>\n",
       "      <td>2014-02-01</td>\n",
       "      <td>Critical</td>\n",
       "      <td>SKU363</td>\n",
       "      <td>3</td>\n",
       "      <td>40.98</td>\n",
       "      <td>0.06</td>\n",
       "      <td>2.99</td>\n",
       "      <td>Regular Air</td>\n",
       "      <td>Small Box</td>\n",
       "      <td>2014-04-01</td>\n",
       "      <td>115.56</td>\n",
       "      <td>2014</td>\n",
       "      <td>February</td>\n",
       "      <td>2014</td>\n",
       "      <td>April</td>\n",
       "    </tr>\n",
       "    <tr>\n",
       "      <th>3</th>\n",
       "      <td>37537</td>\n",
       "      <td>C015</td>\n",
       "      <td>Bob</td>\n",
       "      <td>2014-02-01</td>\n",
       "      <td>Low</td>\n",
       "      <td>SKU052</td>\n",
       "      <td>4</td>\n",
       "      <td>291.73</td>\n",
       "      <td>0.00</td>\n",
       "      <td>48.80</td>\n",
       "      <td>Delivery Truck</td>\n",
       "      <td>Jumbo Drum</td>\n",
       "      <td>2014-02-01</td>\n",
       "      <td>1166.92</td>\n",
       "      <td>2014</td>\n",
       "      <td>February</td>\n",
       "      <td>2014</td>\n",
       "      <td>February</td>\n",
       "    </tr>\n",
       "    <tr>\n",
       "      <th>4</th>\n",
       "      <td>37537</td>\n",
       "      <td>C015</td>\n",
       "      <td>Bob</td>\n",
       "      <td>2014-02-01</td>\n",
       "      <td>Low</td>\n",
       "      <td>SKU063</td>\n",
       "      <td>43</td>\n",
       "      <td>100.98</td>\n",
       "      <td>0.07</td>\n",
       "      <td>45.00</td>\n",
       "      <td>Delivery Truck</td>\n",
       "      <td>Jumbo Drum</td>\n",
       "      <td>2014-04-01</td>\n",
       "      <td>4038.19</td>\n",
       "      <td>2014</td>\n",
       "      <td>February</td>\n",
       "      <td>2014</td>\n",
       "      <td>April</td>\n",
       "    </tr>\n",
       "    <tr>\n",
       "      <th>...</th>\n",
       "      <td>...</td>\n",
       "      <td>...</td>\n",
       "      <td>...</td>\n",
       "      <td>...</td>\n",
       "      <td>...</td>\n",
       "      <td>...</td>\n",
       "      <td>...</td>\n",
       "      <td>...</td>\n",
       "      <td>...</td>\n",
       "      <td>...</td>\n",
       "      <td>...</td>\n",
       "      <td>...</td>\n",
       "      <td>...</td>\n",
       "      <td>...</td>\n",
       "      <td>...</td>\n",
       "      <td>...</td>\n",
       "      <td>...</td>\n",
       "      <td>...</td>\n",
       "    </tr>\n",
       "    <tr>\n",
       "      <th>8394</th>\n",
       "      <td>49344</td>\n",
       "      <td>C494</td>\n",
       "      <td>Bob</td>\n",
       "      <td>2017-12-30</td>\n",
       "      <td>Low</td>\n",
       "      <td>SKU979</td>\n",
       "      <td>31</td>\n",
       "      <td>19.98</td>\n",
       "      <td>0.00</td>\n",
       "      <td>4.00</td>\n",
       "      <td>Regular Air</td>\n",
       "      <td>Small Box</td>\n",
       "      <td>2017-12-30</td>\n",
       "      <td>619.38</td>\n",
       "      <td>2017</td>\n",
       "      <td>December</td>\n",
       "      <td>2017</td>\n",
       "      <td>December</td>\n",
       "    </tr>\n",
       "    <tr>\n",
       "      <th>8395</th>\n",
       "      <td>49344</td>\n",
       "      <td>C494</td>\n",
       "      <td>Bob</td>\n",
       "      <td>2017-12-30</td>\n",
       "      <td>Low</td>\n",
       "      <td>SKU883</td>\n",
       "      <td>1</td>\n",
       "      <td>832.81</td>\n",
       "      <td>0.09</td>\n",
       "      <td>24.49</td>\n",
       "      <td>Regular Air</td>\n",
       "      <td>Medium Box</td>\n",
       "      <td>2017-12-30</td>\n",
       "      <td>757.86</td>\n",
       "      <td>2017</td>\n",
       "      <td>December</td>\n",
       "      <td>2017</td>\n",
       "      <td>December</td>\n",
       "    </tr>\n",
       "    <tr>\n",
       "      <th>8396</th>\n",
       "      <td>47815</td>\n",
       "      <td>C377</td>\n",
       "      <td>Richard</td>\n",
       "      <td>2017-12-30</td>\n",
       "      <td>Not Specified</td>\n",
       "      <td>SKU114</td>\n",
       "      <td>45</td>\n",
       "      <td>13.73</td>\n",
       "      <td>0.08</td>\n",
       "      <td>6.85</td>\n",
       "      <td>Regular Air</td>\n",
       "      <td>Wrap Bag</td>\n",
       "      <td>2017-12-30</td>\n",
       "      <td>568.42</td>\n",
       "      <td>2017</td>\n",
       "      <td>December</td>\n",
       "      <td>2017</td>\n",
       "      <td>December</td>\n",
       "    </tr>\n",
       "    <tr>\n",
       "      <th>8397</th>\n",
       "      <td>50950</td>\n",
       "      <td>C768</td>\n",
       "      <td>Richard</td>\n",
       "      <td>2017-12-30</td>\n",
       "      <td>Not Specified</td>\n",
       "      <td>SKU066</td>\n",
       "      <td>6</td>\n",
       "      <td>60.98</td>\n",
       "      <td>0.06</td>\n",
       "      <td>30.00</td>\n",
       "      <td>Delivery Truck</td>\n",
       "      <td>Jumbo Drum</td>\n",
       "      <td>2017-12-30</td>\n",
       "      <td>343.93</td>\n",
       "      <td>2017</td>\n",
       "      <td>December</td>\n",
       "      <td>2017</td>\n",
       "      <td>December</td>\n",
       "    </tr>\n",
       "    <tr>\n",
       "      <th>8398</th>\n",
       "      <td>50950</td>\n",
       "      <td>C768</td>\n",
       "      <td>Richard</td>\n",
       "      <td>2017-12-30</td>\n",
       "      <td>Not Specified</td>\n",
       "      <td>SKU961</td>\n",
       "      <td>35</td>\n",
       "      <td>13.48</td>\n",
       "      <td>0.10</td>\n",
       "      <td>4.51</td>\n",
       "      <td>Express Air</td>\n",
       "      <td>Small Box</td>\n",
       "      <td>2017-12-30</td>\n",
       "      <td>424.62</td>\n",
       "      <td>2017</td>\n",
       "      <td>December</td>\n",
       "      <td>2017</td>\n",
       "      <td>December</td>\n",
       "    </tr>\n",
       "  </tbody>\n",
       "</table>\n",
       "<p>8399 rows × 18 columns</p>\n",
       "</div>"
      ],
      "text/plain": [
       "      Order ID Customer ID SalesPerson Order Date Order Priority     SKU  \\\n",
       "0        13729        C508         Bob 2014-01-01  Not Specified  SKU947   \n",
       "1        28774        C372        John 2014-01-01           High  SKU937   \n",
       "2         9285        C212         Bob 2014-02-01       Critical  SKU363   \n",
       "3        37537        C015         Bob 2014-02-01            Low  SKU052   \n",
       "4        37537        C015         Bob 2014-02-01            Low  SKU063   \n",
       "...        ...         ...         ...        ...            ...     ...   \n",
       "8394     49344        C494         Bob 2017-12-30            Low  SKU979   \n",
       "8395     49344        C494         Bob 2017-12-30            Low  SKU883   \n",
       "8396     47815        C377     Richard 2017-12-30  Not Specified  SKU114   \n",
       "8397     50950        C768     Richard 2017-12-30  Not Specified  SKU066   \n",
       "8398     50950        C768     Richard 2017-12-30  Not Specified  SKU961   \n",
       "\n",
       "      Order Quantity  Unit Sell Price  Discount  Shipping Amount  \\\n",
       "0                  9            95.99      0.08            35.00   \n",
       "1                 32             5.98      0.10             4.69   \n",
       "2                  3            40.98      0.06             2.99   \n",
       "3                  4           291.73      0.00            48.80   \n",
       "4                 43           100.98      0.07            45.00   \n",
       "...              ...              ...       ...              ...   \n",
       "8394              31            19.98      0.00             4.00   \n",
       "8395               1           832.81      0.09            24.49   \n",
       "8396              45            13.73      0.08             6.85   \n",
       "8397               6            60.98      0.06            30.00   \n",
       "8398              35            13.48      0.10             4.51   \n",
       "\n",
       "           Ship Mode Product Container  Ship Date  Sales amount  Order Year  \\\n",
       "0        Express Air         Large Box 2014-03-01        794.80        2014   \n",
       "1        Regular Air         Small Box 2014-02-01        172.22        2014   \n",
       "2        Regular Air         Small Box 2014-04-01        115.56        2014   \n",
       "3     Delivery Truck        Jumbo Drum 2014-02-01       1166.92        2014   \n",
       "4     Delivery Truck        Jumbo Drum 2014-04-01       4038.19        2014   \n",
       "...              ...               ...        ...           ...         ...   \n",
       "8394     Regular Air         Small Box 2017-12-30        619.38        2017   \n",
       "8395     Regular Air        Medium Box 2017-12-30        757.86        2017   \n",
       "8396     Regular Air          Wrap Bag 2017-12-30        568.42        2017   \n",
       "8397  Delivery Truck        Jumbo Drum 2017-12-30        343.93        2017   \n",
       "8398     Express Air         Small Box 2017-12-30        424.62        2017   \n",
       "\n",
       "     Order Month  Shipping Year Shipping Month  \n",
       "0        January           2014          March  \n",
       "1        January           2014       February  \n",
       "2       February           2014          April  \n",
       "3       February           2014       February  \n",
       "4       February           2014          April  \n",
       "...          ...            ...            ...  \n",
       "8394    December           2017       December  \n",
       "8395    December           2017       December  \n",
       "8396    December           2017       December  \n",
       "8397    December           2017       December  \n",
       "8398    December           2017       December  \n",
       "\n",
       "[8399 rows x 18 columns]"
      ]
     },
     "execution_count": 75,
     "metadata": {},
     "output_type": "execute_result"
    }
   ],
   "source": [
    "sales_data"
   ]
  },
  {
   "cell_type": "code",
   "execution_count": 88,
   "metadata": {},
   "outputs": [],
   "source": [
    "total_ship_amount_by_order_month = sales_data.groupby('Order Month')['Sales amount'].sum()\n",
    "total_ship_amount_by_shipping_month= sales_data.groupby('Shipping Month')['Sales amount'].sum()"
   ]
  },
  {
   "attachments": {},
   "cell_type": "markdown",
   "metadata": {},
   "source": [
    "Total sales by order month"
   ]
  },
  {
   "cell_type": "code",
   "execution_count": 79,
   "metadata": {},
   "outputs": [],
   "source": [
    "# Custom order of months\n",
    "month_order = ['January', 'February', 'March', 'April', 'May', 'June', 'July', 'August', 'September', 'October', 'November', 'December']\n"
   ]
  },
  {
   "cell_type": "code",
   "execution_count": 89,
   "metadata": {},
   "outputs": [],
   "source": [
    "total_ship_amount_by_order_month=total_ship_amount_by_order_month.loc[month_order]\n",
    "total_ship_amount_by_shipping_month=total_ship_amount_by_shipping_month.loc[month_order]"
   ]
  },
  {
   "cell_type": "code",
   "execution_count": 92,
   "metadata": {},
   "outputs": [
    {
     "data": {
      "image/png": "[encoded data removed]",
      "text/plain": [
       "<Figure size 2000x600 with 1 Axes>"
      ]
     },
     "metadata": {},
     "output_type": "display_data"
    },
    {
     "data": {
      "text/plain": [
       "<Figure size 2000x600 with 0 Axes>"
      ]
     },
     "execution_count": 92,
     "metadata": {},
     "output_type": "execute_result"
    },
    {
     "data": {
      "text/plain": [
       "<Figure size 2000x600 with 0 Axes>"
      ]
     },
     "metadata": {},
     "output_type": "display_data"
    }
   ],
   "source": [
    "plt.figure(figsize=(20, 6))\n",
    "\n",
    "sns.lineplot(x=total_ship_amount_by_order_month.index,y=total_ship_amount_by_order_month.values)\n",
    "sns.lineplot(x=total_ship_amount_by_shipping_month.index,y=total_ship_amount_by_shipping_month.values)\n",
    "plt.xlabel('Order Month')\n",
    "plt.ylabel('Total Sales Amount')\n",
    "plt.title('Sales Amount by Order Month')\n",
    "plt.show()\n",
    "plt.figure(figsize=(20, 6))\n",
    "\n",
    "# sns.lineplot(x=total_ship_amount_by_shipping_month.index,y=total_ship_amount_by_shipping_month.values)\n",
    "# plt.xlabel('Shipping Month')\n",
    "# plt.ylabel('Total Sales Amount')\n",
    "# plt.title('Sales Amount by Shipping Month')\n",
    "# plt.show()\n"
   ]
  },
  {
   "cell_type": "code",
   "execution_count": null,
   "metadata": {},
   "outputs": [],
   "source": []
  },
  {
   "cell_type": "code",
   "execution_count": null,
   "metadata": {},
   "outputs": [],
   "source": []
  }
 ],
 "metadata": {
  "kernelspec": {
   "display_name": "Python 3",
   "language": "python",
   "name": "python3"
  },
  "language_info": {
   "codemirror_mode": {
    "name": "ipython",
    "version": 3
   },
   "file_extension": ".py",
   "mimetype": "text/x-python",
   "name": "python",
   "nbconvert_exporter": "python",
   "pygments_lexer": "ipython3",
   "version": "3.10.8"
  },
  "orig_nbformat": 4
 },
 "nbformat": 4,
 "nbformat_minor": 2
}
